{
 "cells": [
  {
   "cell_type": "markdown",
   "metadata": {},
   "source": [
    "# Seasonal Trends\n",
    "\n",
    "1. Background\n",
    "   1. What are seasonal trends?\n",
    "   2. Why do they matter.\n",
    "2. Dataset\n",
    "   1. Load the dataset.\n",
    "   2. Show the seasonal trends.\n",
    "3. Modeling\n",
    "   1. Train the model.\n",
    "   2. Show the seasonal trends are preserved."
   ]
  },
  {
   "cell_type": "code",
   "execution_count": 1,
   "metadata": {},
   "outputs": [
    {
     "name": "stdout",
     "output_type": "stream",
     "text": [
      "Coming soon!\n"
     ]
    }
   ],
   "source": [
    "print(\"Coming soon!\")"
   ]
  }
 ],
 "metadata": {
  "kernelspec": {
   "display_name": "Python 3",
   "language": "python",
   "name": "python3"
  },
  "language_info": {
   "codemirror_mode": {
    "name": "ipython",
    "version": 3
   },
   "file_extension": ".py",
   "mimetype": "text/x-python",
   "name": "python",
   "nbconvert_exporter": "python",
   "pygments_lexer": "ipython3",
   "version": "3.8.3"
  }
 },
 "nbformat": 4,
 "nbformat_minor": 4
}
