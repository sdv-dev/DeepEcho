{
 "cells": [
  {
   "cell_type": "markdown",
   "metadata": {},
   "source": [
    "# Event-based Data\n",
    "\n",
    "1. Background\n",
    "   1. What are events?\n",
    "   2. The time index field.\n",
    "2. Dataset\n",
    "   1. Load the dataset.\n",
    "   2. Show how the time intervals have interesting properties.\n",
    "       1. Time from add to cart to checkout is consistent.\n",
    "       1. Time from checkout to delivered is consistent.\n",
    "3. Modeling\n",
    "   1. Train the model.\n",
    "   2. Show the time interval properties are preserved."
   ]
  },
  {
   "cell_type": "code",
   "execution_count": null,
   "metadata": {},
   "outputs": [],
   "source": [
    "print(\"Coming soon!\")"
   ]
  }
 ],
 "metadata": {
  "kernelspec": {
   "display_name": "Python 3",
   "language": "python",
   "name": "python3"
  },
  "language_info": {
   "codemirror_mode": {
    "name": "ipython",
    "version": 3
   },
   "file_extension": ".py",
   "mimetype": "text/x-python",
   "name": "python",
   "nbconvert_exporter": "python",
   "pygments_lexer": "ipython3",
   "version": "3.8.3"
  }
 },
 "nbformat": 4,
 "nbformat_minor": 4
}
